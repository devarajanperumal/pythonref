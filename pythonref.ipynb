{
 "cells": [
  {
   "cell_type": "code",
   "execution_count": null,
   "metadata": {
    "collapsed": true
   },
   "outputs": [],
   "source": []
  },
  {
   "cell_type": "code",
   "execution_count": 97,
   "metadata": {
    "collapsed": true
   },
   "outputs": [
    {
     "name": "stdout",
     "output_type": "stream",
     "text": [
      "> <ipython-input-97-b0beed70b9f7>(4)<module>()->None\n",
      "-> set_trace()\n",
      "(Pdb) counter\n",
      "10\n",
      "(Pdb) n\n",
      "None\n",
      "> \u001b[0;32m<ipython-input-97-b0beed70b9f7>\u001b[0m(5)\u001b[0;36m<module>\u001b[0;34m()\u001b[0m\n",
      "\u001b[0;32m      1 \u001b[0;31m\u001b[0mcounter\u001b[0m \u001b[0;34m=\u001b[0m \u001b[0;36m10\u001b[0m\u001b[0;34m\u001b[0m\u001b[0m\n",
      "\u001b[0m\u001b[0;32m      2 \u001b[0;31m\u001b[0;32mwhile\u001b[0m \u001b[0mcounter\u001b[0m \u001b[0;34m>\u001b[0m \u001b[0;36m0\u001b[0m\u001b[0;34m:\u001b[0m\u001b[0;34m\u001b[0m\u001b[0m\n",
      "\u001b[0m\u001b[0;32m      3 \u001b[0;31m    \u001b[0;32mimport\u001b[0m \u001b[0mpdb\u001b[0m\u001b[0;34m;\u001b[0m \u001b[0mpdb\u001b[0m\u001b[0;34m.\u001b[0m\u001b[0mset_trace\u001b[0m\u001b[0;34m(\u001b[0m\u001b[0;34m)\u001b[0m\u001b[0;34m\u001b[0m\u001b[0m\n",
      "\u001b[0m\u001b[0;32m      4 \u001b[0;31m    \u001b[0mset_trace\u001b[0m\u001b[0;34m(\u001b[0m\u001b[0;34m)\u001b[0m\u001b[0;34m\u001b[0m\u001b[0m\n",
      "\u001b[0m\u001b[0;32m----> 5 \u001b[0;31m    \u001b[0mcounter\u001b[0m \u001b[0;34m-=\u001b[0m \u001b[0;36m1\u001b[0m\u001b[0;34m\u001b[0m\u001b[0m\n",
      "\u001b[0m\n",
      "ipdb> n\n",
      "None\n",
      "> \u001b[0;32m<ipython-input-97-b0beed70b9f7>\u001b[0m(2)\u001b[0;36m<module>\u001b[0;34m()\u001b[0m\n",
      "\u001b[0;32m      1 \u001b[0;31m\u001b[0mcounter\u001b[0m \u001b[0;34m=\u001b[0m \u001b[0;36m10\u001b[0m\u001b[0;34m\u001b[0m\u001b[0m\n",
      "\u001b[0m\u001b[0;32m----> 2 \u001b[0;31m\u001b[0;32mwhile\u001b[0m \u001b[0mcounter\u001b[0m \u001b[0;34m>\u001b[0m \u001b[0;36m0\u001b[0m\u001b[0;34m:\u001b[0m\u001b[0;34m\u001b[0m\u001b[0m\n",
      "\u001b[0m\u001b[0;32m      3 \u001b[0;31m    \u001b[0;32mimport\u001b[0m \u001b[0mpdb\u001b[0m\u001b[0;34m;\u001b[0m \u001b[0mpdb\u001b[0m\u001b[0;34m.\u001b[0m\u001b[0mset_trace\u001b[0m\u001b[0;34m(\u001b[0m\u001b[0;34m)\u001b[0m\u001b[0;34m\u001b[0m\u001b[0m\n",
      "\u001b[0m\u001b[0;32m      4 \u001b[0;31m    \u001b[0mset_trace\u001b[0m\u001b[0;34m(\u001b[0m\u001b[0;34m)\u001b[0m\u001b[0;34m\u001b[0m\u001b[0m\n",
      "\u001b[0m\u001b[0;32m      5 \u001b[0;31m    \u001b[0mcounter\u001b[0m \u001b[0;34m-=\u001b[0m \u001b[0;36m1\u001b[0m\u001b[0;34m\u001b[0m\u001b[0m\n",
      "\u001b[0m\n",
      "ipdb> counter\n",
      "9\n",
      "ipdb> q\n"
     ]
    },
    {
     "ename": "BdbQuit",
     "evalue": "",
     "output_type": "error",
     "traceback": [
      "\u001b[0;31m---------------------------------------------------------------------------\u001b[0m",
      "\u001b[0;31mBdbQuit\u001b[0m                                   Traceback (most recent call last)",
      "\u001b[0;32m<ipython-input-97-b0beed70b9f7>\u001b[0m in \u001b[0;36m<module>\u001b[0;34m()\u001b[0m\n\u001b[1;32m      1\u001b[0m \u001b[0mcounter\u001b[0m \u001b[0;34m=\u001b[0m \u001b[0;36m10\u001b[0m\u001b[0;34m\u001b[0m\u001b[0m\n\u001b[0;32m----> 2\u001b[0;31m \u001b[0;32mwhile\u001b[0m \u001b[0mcounter\u001b[0m \u001b[0;34m>\u001b[0m \u001b[0;36m0\u001b[0m\u001b[0;34m:\u001b[0m\u001b[0;34m\u001b[0m\u001b[0m\n\u001b[0m\u001b[1;32m      3\u001b[0m     \u001b[0;32mimport\u001b[0m \u001b[0mpdb\u001b[0m\u001b[0;34m;\u001b[0m \u001b[0mpdb\u001b[0m\u001b[0;34m.\u001b[0m\u001b[0mset_trace\u001b[0m\u001b[0;34m(\u001b[0m\u001b[0;34m)\u001b[0m\u001b[0;34m\u001b[0m\u001b[0m\n\u001b[1;32m      4\u001b[0m     \u001b[0mset_trace\u001b[0m\u001b[0;34m(\u001b[0m\u001b[0;34m)\u001b[0m\u001b[0;34m\u001b[0m\u001b[0m\n\u001b[1;32m      5\u001b[0m     \u001b[0mcounter\u001b[0m \u001b[0;34m-=\u001b[0m \u001b[0;36m1\u001b[0m\u001b[0;34m\u001b[0m\u001b[0m\n",
      "\u001b[0;32m<ipython-input-97-b0beed70b9f7>\u001b[0m in \u001b[0;36m<module>\u001b[0;34m()\u001b[0m\n\u001b[1;32m      1\u001b[0m \u001b[0mcounter\u001b[0m \u001b[0;34m=\u001b[0m \u001b[0;36m10\u001b[0m\u001b[0;34m\u001b[0m\u001b[0m\n\u001b[0;32m----> 2\u001b[0;31m \u001b[0;32mwhile\u001b[0m \u001b[0mcounter\u001b[0m \u001b[0;34m>\u001b[0m \u001b[0;36m0\u001b[0m\u001b[0;34m:\u001b[0m\u001b[0;34m\u001b[0m\u001b[0m\n\u001b[0m\u001b[1;32m      3\u001b[0m     \u001b[0;32mimport\u001b[0m \u001b[0mpdb\u001b[0m\u001b[0;34m;\u001b[0m \u001b[0mpdb\u001b[0m\u001b[0;34m.\u001b[0m\u001b[0mset_trace\u001b[0m\u001b[0;34m(\u001b[0m\u001b[0;34m)\u001b[0m\u001b[0;34m\u001b[0m\u001b[0m\n\u001b[1;32m      4\u001b[0m     \u001b[0mset_trace\u001b[0m\u001b[0;34m(\u001b[0m\u001b[0;34m)\u001b[0m\u001b[0;34m\u001b[0m\u001b[0m\n\u001b[1;32m      5\u001b[0m     \u001b[0mcounter\u001b[0m \u001b[0;34m-=\u001b[0m \u001b[0;36m1\u001b[0m\u001b[0;34m\u001b[0m\u001b[0m\n",
      "\u001b[0;32m/anaconda3/lib/python3.6/bdb.py\u001b[0m in \u001b[0;36mtrace_dispatch\u001b[0;34m(self, frame, event, arg)\u001b[0m\n\u001b[1;32m     46\u001b[0m             \u001b[0;32mreturn\u001b[0m \u001b[0;31m# None\u001b[0m\u001b[0;34m\u001b[0m\u001b[0m\n\u001b[1;32m     47\u001b[0m         \u001b[0;32mif\u001b[0m \u001b[0mevent\u001b[0m \u001b[0;34m==\u001b[0m \u001b[0;34m'line'\u001b[0m\u001b[0;34m:\u001b[0m\u001b[0;34m\u001b[0m\u001b[0m\n\u001b[0;32m---> 48\u001b[0;31m             \u001b[0;32mreturn\u001b[0m \u001b[0mself\u001b[0m\u001b[0;34m.\u001b[0m\u001b[0mdispatch_line\u001b[0m\u001b[0;34m(\u001b[0m\u001b[0mframe\u001b[0m\u001b[0;34m)\u001b[0m\u001b[0;34m\u001b[0m\u001b[0m\n\u001b[0m\u001b[1;32m     49\u001b[0m         \u001b[0;32mif\u001b[0m \u001b[0mevent\u001b[0m \u001b[0;34m==\u001b[0m \u001b[0;34m'call'\u001b[0m\u001b[0;34m:\u001b[0m\u001b[0;34m\u001b[0m\u001b[0m\n\u001b[1;32m     50\u001b[0m             \u001b[0;32mreturn\u001b[0m \u001b[0mself\u001b[0m\u001b[0;34m.\u001b[0m\u001b[0mdispatch_call\u001b[0m\u001b[0;34m(\u001b[0m\u001b[0mframe\u001b[0m\u001b[0;34m,\u001b[0m \u001b[0marg\u001b[0m\u001b[0;34m)\u001b[0m\u001b[0;34m\u001b[0m\u001b[0m\n",
      "\u001b[0;32m/anaconda3/lib/python3.6/bdb.py\u001b[0m in \u001b[0;36mdispatch_line\u001b[0;34m(self, frame)\u001b[0m\n\u001b[1;32m     65\u001b[0m         \u001b[0;32mif\u001b[0m \u001b[0mself\u001b[0m\u001b[0;34m.\u001b[0m\u001b[0mstop_here\u001b[0m\u001b[0;34m(\u001b[0m\u001b[0mframe\u001b[0m\u001b[0;34m)\u001b[0m \u001b[0;32mor\u001b[0m \u001b[0mself\u001b[0m\u001b[0;34m.\u001b[0m\u001b[0mbreak_here\u001b[0m\u001b[0;34m(\u001b[0m\u001b[0mframe\u001b[0m\u001b[0;34m)\u001b[0m\u001b[0;34m:\u001b[0m\u001b[0;34m\u001b[0m\u001b[0m\n\u001b[1;32m     66\u001b[0m             \u001b[0mself\u001b[0m\u001b[0;34m.\u001b[0m\u001b[0muser_line\u001b[0m\u001b[0;34m(\u001b[0m\u001b[0mframe\u001b[0m\u001b[0;34m)\u001b[0m\u001b[0;34m\u001b[0m\u001b[0m\n\u001b[0;32m---> 67\u001b[0;31m             \u001b[0;32mif\u001b[0m \u001b[0mself\u001b[0m\u001b[0;34m.\u001b[0m\u001b[0mquitting\u001b[0m\u001b[0;34m:\u001b[0m \u001b[0;32mraise\u001b[0m \u001b[0mBdbQuit\u001b[0m\u001b[0;34m\u001b[0m\u001b[0m\n\u001b[0m\u001b[1;32m     68\u001b[0m         \u001b[0;32mreturn\u001b[0m \u001b[0mself\u001b[0m\u001b[0;34m.\u001b[0m\u001b[0mtrace_dispatch\u001b[0m\u001b[0;34m\u001b[0m\u001b[0m\n\u001b[1;32m     69\u001b[0m \u001b[0;34m\u001b[0m\u001b[0m\n",
      "\u001b[0;31mBdbQuit\u001b[0m: "
     ]
    }
   ],
   "source": [
    "counter = 10\n",
    "while counter > 0:\n",
    "    import pdb; pdb.set_trace()\n",
    "    set_trace()\n",
    "    counter -= 1"
   ]
  },
  {
   "cell_type": "code",
   "execution_count": 110,
   "metadata": {},
   "outputs": [
    {
     "name": "stdout",
     "output_type": "stream",
     "text": [
      "  1 4000 2.39 465393.38\n",
      "from file\n",
      "short_int long_int  short_float long_float\n",
      "1         4000      2.39        465393.38\n"
     ]
    }
   ],
   "source": [
    "short_int, long_int, short_float, long_float = 1, 4000, 2.3877, 465393.3844 \n",
    "\n",
    "# Old style\n",
    "print('%3d %4d %.2f %6.2f' % (short_int, long_int, short_float, long_float))\n",
    "\n",
    "# write to file\n",
    "with open('Data/formatted.txt', 'w') as f:\n",
    "    print('{:<10s}{:<10s}{:<12s}{:<12s}'.format('short_int', 'long_int', 'short_float', 'long_float'), file=f)\n",
    "    print('{:<10d}{:<10d}{:<12.2f}{:<12.2f}'.format(short_int, long_int, short_float, long_float), file=f)\n",
    "    \n",
    "with open('Data/formatted.txt', 'r') as file:\n",
    "    print('from file')\n",
    "    for line in file:\n",
    "        print(line.strip())"
   ]
  },
  {
   "cell_type": "code",
   "execution_count": 142,
   "metadata": {
    "collapsed": true
   },
   "outputs": [],
   "source": [
    "line = 'hello,\"world\",1,2.147\\n'\n",
    "line = line.strip()\n",
    "parts = line.split(',')\n",
    "parts[1] = parts[1].strip('\"')\n",
    "parts[2] = int(parts[2])\n",
    "parts[3] = float(parts[3])"
   ]
  },
  {
   "cell_type": "code",
   "execution_count": 129,
   "metadata": {},
   "outputs": [
    {
     "data": {
      "text/plain": [
       "'AA'"
      ]
     },
     "execution_count": 129,
     "metadata": {},
     "output_type": "execute_result"
    }
   ],
   "source": [
    "create_tuple = ('AA', '2007-06-11', 100, 32.2)\n",
    "list_to_tuple = tuple(['AA', '2007-06-11', 100, 32.2])\n",
    "tuple_to_unpack = list_to_tuple\n",
    "name, date, shares, price = tuple_to_unpack\n",
    "name"
   ]
  },
  {
   "cell_type": "code",
   "execution_count": 130,
   "metadata": {},
   "outputs": [
    {
     "data": {
      "text/plain": [
       "True"
      ]
     },
     "execution_count": 130,
     "metadata": {},
     "output_type": "execute_result"
    }
   ],
   "source": [
    "# set deduplicates\n",
    "create_set = {'a', 'b', 'c', 'd', 'a'}\n",
    "list_to_set = set(['a', 'b', 'c', 'd', 'a'])\n",
    "'a' in list_to_set"
   ]
  },
  {
   "cell_type": "code",
   "execution_count": 145,
   "metadata": {},
   "outputs": [
    {
     "name": "stdout",
     "output_type": "stream",
     "text": [
      "Help on function portfolio_costs in module __main__:\n",
      "\n",
      "portfolio_costs(filename, error='warn')\n",
      "    Computes total share price for csv files with name, date, shares and price.\n",
      "\n",
      "Error filename: Data/missing.csv line: 3 Data: ['CAT', '2006-09-23', '', '83.44'] Error: invalid literal for int() with base 10: ''\n",
      "Error filename: Data/missing.csv line: 6 Data: ['MSFT', '2006-10-31', 'N/A', '65.10'] Error: invalid literal for int() with base 10: 'N/A'\n"
     ]
    }
   ],
   "source": [
    "def read_portfolio(filename, error='warn'):\n",
    "    '''Read a  csv file with name, date, shares and price and return a list.\n",
    "    '''\n",
    "    \n",
    "    errors = {'warn', 'raise', 'silent'}\n",
    "    if error not in errors:\n",
    "        raise ValueError(\"Error must be {'warn', 'raise', 'silent'}\")\n",
    "\n",
    "    portfolio = []\n",
    "    with open(filename, 'r') as file:\n",
    "        headers = next(file)\n",
    "        rows = csv.reader(file)\n",
    "        for rowno, row in enumerate(rows, start=1):\n",
    "            try:\n",
    "                row[2] = int(row[2])\n",
    "                row[3] = float(row[3])\n",
    "                record = {\n",
    "                    'name': row[0],\n",
    "                    'date': row[1],\n",
    "                    'shares': row[2],\n",
    "                    'price': row[3],\n",
    "                }\n",
    "                portfolio.append(record)\n",
    "            except ValueError as err:\n",
    "                if error == 'warn':\n",
    "                    print('Error filename:', filename, 'line:', rowno, 'Data:', row, 'Error:', err )\n",
    "                    continue\n",
    "                elif error == 'raise':\n",
    "                    raise\n",
    "                else:\n",
    "                    continue\n",
    "    return portfolio\n",
    "\n",
    "help(portfolio_costs)\n",
    "# portfolio_costs.__doc__\n",
    "\n",
    "#     portfolio = read_portfolio('Data/portfolio.csv', 'silent'))    # Positional arguments\n",
    "#     portfolio = read_portfolio(filename='Data/portfolio.csv', error='warn'))    # Keyword arguments\n",
    "#     portfolio = read_portfolio(error='raise', filename='Data/portfolio.csv'))    # If using keywords, position doesn't matter\n",
    "#     portfolio = read_portfolio('silent', filename='Data/portfolio.csv'))    # This will result an error\n",
    "portfolio = read_portfolio('Data/portfolio.csv', error='silent')\n",
    "\n",
    "import json\n",
    "data = json.dumps(portfolio)\n",
    "\n",
    "total = sum([holding['shares'] * holding['price'] for holding in portfolio])\n",
    "\n",
    "more100 = [holding['name'] for holding in portfolio if holding['shares'] > 100]\n",
    "\n",
    "names = [holding['name'] for holding in portfolio]\n",
    "\n",
    "unique_names = {holding['name'] for holding in portfolio}\n",
    "\n",
    "import glob\n",
    "filenames = glob.glob('Data/*.csv')\n",
    "portfolios = {filename: read_portfolio(filename, error='warn') for filename in filenames}"
   ]
  },
  {
   "cell_type": "code",
   "execution_count": 156,
   "metadata": {
    "collapsed": true
   },
   "outputs": [],
   "source": [
    "namestr = ','.join(unique_names)    #used to get data from url\n",
    "url_data = b'72.51\\n9.27\\n153.74\\n30.23\\n53.00\\n'\n",
    "price_data = [float(data) for data in url_data.split()]\n",
    "prices = dict(zip(unique_names, price_data))"
   ]
  },
  {
   "cell_type": "code",
   "execution_count": 165,
   "metadata": {},
   "outputs": [
    {
     "name": "stdout",
     "output_type": "stream",
     "text": [
      "[{'name': 'AA', 'date': '2007-06-11', 'shares': 100, 'price': 32.2}, {'name': 'CAT', 'date': '2006-09-23', 'shares': 150, 'price': 83.44}, {'name': 'GE', 'date': '2006-02-01', 'shares': 95, 'price': 40.37}, {'name': 'IBM', 'date': '2007-05-13', 'shares': 50, 'price': 91.1}, {'name': 'IBM', 'date': '2006-07-09', 'shares': 100, 'price': 70.44}, {'name': 'MSFT', 'date': '2006-10-31', 'shares': 50, 'price': 65.1}, {'name': 'MSFT', 'date': '2007-05-17', 'shares': 200, 'price': 51.23}]\n",
      "[{'name': 'AA', 'date': '2007-06-11', 'shares': 100, 'price': 32.2}, {'name': 'CAT', 'date': '2006-09-23', 'shares': 150, 'price': 83.44}, {'name': 'GE', 'date': '2006-02-01', 'shares': 95, 'price': 40.37}, {'name': 'IBM', 'date': '2007-05-13', 'shares': 50, 'price': 91.1}, {'name': 'IBM', 'date': '2006-07-09', 'shares': 100, 'price': 70.44}, {'name': 'MSFT', 'date': '2006-10-31', 'shares': 50, 'price': 65.1}, {'name': 'MSFT', 'date': '2007-05-17', 'shares': 200, 'price': 51.23}]\n"
     ]
    },
    {
     "data": {
      "text/plain": [
       "{'date': '2007-05-13', 'name': 'IBM', 'price': 91.1, 'shares': 50}"
      ]
     },
     "execution_count": 165,
     "metadata": {},
     "output_type": "execute_result"
    }
   ],
   "source": [
    "print(portfolio)\n",
    "# def holding_shares(holding):\n",
    "#     return holding['shares']\n",
    "\n",
    "# portfolio.sort(key=holding_shares)    #there is a better way\n",
    "portfolio.sort(key=lambda holding: holding['name'])\n",
    "print(portfolio)\n",
    "min(portfolio, key=lambda holding: holding['shares'])\n"
   ]
  },
  {
   "cell_type": "code",
   "execution_count": null,
   "metadata": {
    "collapsed": true
   },
   "outputs": [],
   "source": []
  }
 ],
 "metadata": {
  "kernelspec": {
   "display_name": "Python 3",
   "language": "python",
   "name": "python3"
  },
  "language_info": {
   "codemirror_mode": {
    "name": "ipython",
    "version": 3
   },
   "file_extension": ".py",
   "mimetype": "text/x-python",
   "name": "python",
   "nbconvert_exporter": "python",
   "pygments_lexer": "ipython3",
   "version": "3.6.3"
  }
 },
 "nbformat": 4,
 "nbformat_minor": 2
}
